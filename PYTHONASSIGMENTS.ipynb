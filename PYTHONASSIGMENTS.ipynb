{
 "cells": [
  {
   "cell_type": "code",
   "execution_count": null,
   "metadata": {},
   "outputs": [],
   "source": [
    "# Print \"Hello, World!\"\n",
    "print(\"Hello, World!\")"
   ]
  },
  {
   "cell_type": "code",
   "execution_count": null,
   "metadata": {},
   "outputs": [],
   "source": [
    "# Prompt user for their name and print a greeting\n",
    "name = input(\"Enter your name: \")\n",
    "print(f\"Hello, {name}!\")"
   ]
  },
  {
   "cell_type": "code",
   "execution_count": null,
   "metadata": {},
   "outputs": [],
   "source": [
    "# Prompt user for two numbers and print their sum\n",
    "num1 = float(input(\"Enter the first number: \"))\n",
    "num2 = float(input(\"Enter the second number: \"))\n",
    "print(f\"The sum is: {num1 + num2}\")"
   ]
  },
  {
   "cell_type": "code",
   "execution_count": null,
   "metadata": {},
   "outputs": [],
   "source": [
    "# Prompt user for two numbers and display all operations\n",
    "num1 = float(input(\"Enter the first number: \"))\n",
    "num2 = float(input(\"Enter the second number: \"))\n",
    "print(f\"Sum: {num1 + num2}\")\n",
    "print(f\"Difference: {num1 - num2}\")\n",
    "print(f\"Product: {num1 * num2}\")\n",
    "print(f\"Quotient: {num1 / num2 if num2 != 0 else 'Division by zero not allowed'}\")"
   ]
  },
  {
   "cell_type": "code",
   "execution_count": null,
   "metadata": {},
   "outputs": [],
   "source": [
    "# Swap variables without using a temporary variable\n",
    "a = int(input(\"Enter the first value (a): \"))\n",
    "b = int(input(\"Enter the second value (b): \"))\n",
    "a, b = b, a\n",
    "print(f\"After swapping: a = {a}, b = {b}\")"
   ]
  },
  {
   "cell_type": "code",
   "execution_count": null,
   "metadata": {},
   "outputs": [],
   "source": [
    "# Check if a number is even or odd\n",
    "num = int(input(\"Enter an integer: \"))\n",
    "if num % 2 == 0:\n",
    "    print(\"The number is even.\")\n",
    "else:\n",
    "    print(\"The number is odd.\")"
   ]
  },
  {
   "cell_type": "code",
   "execution_count": null,
   "metadata": {},
   "outputs": [],
   "source": [
    "# Find the largest of three numbers\n",
    "num1 = float(input(\"Enter the first number: \"))\n",
    "num2 = float(input(\"Enter the second number: \"))\n",
    "num3 = float(input(\"Enter the third number: \"))\n",
    "largest = max(num1, num2, num3)\n",
    "print(f\"The largest number is: {largest}\")"
   ]
  },
  {
   "cell_type": "code",
   "execution_count": null,
   "metadata": {},
   "outputs": [],
   "source": [
    "# Convert Fahrenheit to Celsius\n",
    "fahrenheit = float(input(\"Enter temperature in Fahrenheit: \"))\n",
    "celsius = (fahrenheit - 32) * 5/9\n",
    "print(f\"Temperature in Celsius: {celsius:.2f}\")"
   ]
  },
  {
   "cell_type": "code",
   "execution_count": null,
   "metadata": {},
   "outputs": [],
   "source": [
    "# Calculate Simple Interest\n",
    "principal = float(input(\"Enter the principal amount: \"))\n",
    "rate = float(input(\"Enter the rate of interest: \"))\n",
    "time = float(input(\"Enter the time (in years): \"))\n",
    "simple_interest = (principal * rate * time) / 100\n",
    "print(f\"Simple Interest: {simple_interest:.2f}\")"
   ]
  },
  {
   "cell_type": "code",
   "execution_count": null,
   "metadata": {},
   "outputs": [],
   "source": [
    "# Calculate Compound Interest\n",
    "principal = float(input(\"Enter the principal amount: \"))\n",
    "rate = float(input(\"Enter the rate of interest: \"))\n",
    "time = float(input(\"Enter the time (in years): \"))\n",
    "compound_interest = principal * ((1 + rate / 100) ** time) - principal\n",
    "print(f\"Compound Interest: {compound_interest:.2f}\")"
   ]
  },
  {
   "cell_type": "code",
   "execution_count": null,
   "metadata": {},
   "outputs": [],
   "source": [
    "# Return the length of a string without using len()\n",
    "def string_length(s):\n",
    "    count = 0\n",
    "    for char in s:\n",
    "        count += 1\n",
    "    return count\n",
    "\n",
    "input_string = input(\"Enter a string: \")\n",
    "print(f\"Length of the string: {string_length(input_string)}\")"
   ]
  },
  {
   "cell_type": "code",
   "execution_count": null,
   "metadata": {},
   "outputs": [],
   "source": [
    "# Check if a string is a palindrome\n",
    "def is_palindrome(s):\n",
    "    s = s.lower().replace(\" \", \"\")  # Convert to lowercase and remove spaces\n",
    "    return s == s[::-1]\n",
    "\n",
    "string = input(\"Enter a string: \")\n",
    "if is_palindrome(string):\n",
    "    print(\"The string is a palindrome.\")\n",
    "else:\n",
    "    print(\"The string is not a palindrome.\")"
   ]
  },
  {
   "cell_type": "code",
   "execution_count": null,
   "metadata": {},
   "outputs": [],
   "source": [
    "# Demonstrate string slicing operations\n",
    "string = input(\"Enter a string: \")\n",
    "print(f\"Original String: {string}\")\n",
    "print(f\"Reversed String: {string[::-1]}\")\n",
    "print(f\"Every second character: {string[::2]}\")\n",
    "print(f\"Substring from index 2 to 5: {string[2:6]}\")"
   ]
  },
  {
   "cell_type": "code",
   "execution_count": null,
   "metadata": {},
   "outputs": [],
   "source": [
    "# Count the number of vowels in a string\n",
    "def count_vowels(s):\n",
    "    vowels = \"aeiouAEIOU\"\n",
    "    count = 0\n",
    "    for char in s:\n",
    "        if char in vowels:\n",
    "            count += 1\n",
    "    return count\n",
    "\n",
    "string = input(\"Enter a string: \")\n",
    "print(f\"Number of vowels: {count_vowels(string)}\")"
   ]
  },
  {
   "cell_type": "code",
   "execution_count": null,
   "metadata": {},
   "outputs": [],
   "source": [
    "# Check if a year is a leap year\n",
    "year = int(input(\"Enter a year: \"))\n",
    "if (year % 4 == 0 and year % 100 != 0) or (year % 400 == 0):\n",
    "    print(f\"{year} is a leap year.\")\n",
    "else:\n",
    "    print(f\"{year} is not a leap year.\")"
   ]
  },
  {
   "cell_type": "code",
   "execution_count": null,
   "metadata": {},
   "outputs": [],
   "source": [
    "# Compute power without using built-in functions\n",
    "base = int(input(\"Enter the base: \"))\n",
    "exponent = int(input(\"Enter the exponent: \"))\n",
    "result = 1\n",
    "for _ in range(abs(exponent)):\n",
    "    result *= base\n",
    "if exponent < 0:\n",
    "    result = 1 / result\n",
    "print(f\"{base} to the power of {exponent} is {result}\")"
   ]
  },
  {
   "cell_type": "code",
   "execution_count": null,
   "metadata": {},
   "outputs": [],
   "source": [
    "# Demonstrate floor division and modulo\n",
    "num1 = int(input(\"Enter the first number: \"))\n",
    "num2 = int(input(\"Enter the second number: \"))\n",
    "print(f\"Floor Division: {num1 // num2}\")\n",
    "print(f\"Modulo: {num1 % num2}\")"
   ]
  },
  {
   "cell_type": "code",
   "execution_count": null,
   "metadata": {},
   "outputs": [],
   "source": [
    "# Format a string using f-strings\n",
    "name = input(\"Enter your name: \")\n",
    "age = int(input(\"Enter your age: \"))\n",
    "print(f\"Hello, {name}! You are {age} years old.\")"
   ]
  },
  {
   "cell_type": "code",
   "execution_count": null,
   "metadata": {},
   "outputs": [],
   "source": [
    "# Store 5 integers in a list and print its length\n",
    "nums = [int(input(f\"Enter number {i+1}: \")) for i in range(5)]\n",
    "print(f\"List: {nums}\")\n",
    "print(f\"Length of the list: {len(nums)}\")"
   ]
  },
  {
   "cell_type": "code",
   "execution_count": null,
   "metadata": {},
   "outputs": [],
   "source": [
    "# Calculate the sum of elements in a list\n",
    "nums = [int(x) for x in input(\"Enter numbers separated by space: \").split()]\n",
    "print(f\"Sum of the list: {sum(nums)}\")"
   ]
  },
  {
   "cell_type": "code",
   "execution_count": null,
   "metadata": {},
   "outputs": [],
   "source": [
    "# Find minimum and maximum without using min() or max()\n",
    "nums = [int(x) for x in input(\"Enter numbers separated by space: \").split()]\n",
    "min_val = nums[0]\n",
    "max_val = nums[0]\n",
    "for num in nums:\n",
    "    if num < min_val:\n",
    "        min_val = num\n",
    "    if num > max_val:\n",
    "        max_val = num\n",
    "print(f\"Minimum: {min_val}, Maximum: {max_val}\")"
   ]
  },
  {
   "cell_type": "code",
   "execution_count": null,
   "metadata": {},
   "outputs": [],
   "source": [
    "# Reverse a list in-place\n",
    "nums = [int(x) for x in input(\"Enter numbers separated by space: \").split()]\n",
    "for i in range(len(nums) // 2):\n",
    "    nums[i], nums[-i - 1] = nums[-i - 1], nums[i]\n",
    "print(f\"Reversed List: {nums}\")"
   ]
  },
  {
   "cell_type": "code",
   "execution_count": null,
   "metadata": {},
   "outputs": [],
   "source": [
    "# Count occurrences of an integer in a list\n",
    "nums = [int(x) for x in input(\"Enter numbers separated by space: \").split()]\n",
    "target = int(input(\"Enter the number to count: \"))\n",
    "count = 0\n",
    "for num in nums:\n",
    "    if num == target:\n",
    "        count += 1\n",
    "print(f\"{target} appears {count} times in the list.\")"
   ]
  },
  {
   "cell_type": "code",
   "execution_count": null,
   "metadata": {},
   "outputs": [],
   "source": [
    "# Print the first and last elements of a tuple\n",
    "tup = (10, 20, 30, 40, 50)\n",
    "print(f\"First Element: {tup[0]}, Last Element: {tup[-1]}\")"
   ]
  },
  {
   "cell_type": "code",
   "execution_count": null,
   "metadata": {},
   "outputs": [],
   "source": [
    "# Convert a tuple to a list\n",
    "tup = (10, 20, 30, 40, 50)\n",
    "lst = list(tup)\n",
    "print(f\"Converted List: {lst}\")"
   ]
  },
  {
   "cell_type": "code",
   "execution_count": null,
   "metadata": {},
   "outputs": [],
   "source": [
    "# Check if a substring is present in a string\n",
    "s = input(\"Enter the main string: \")\n",
    "sub = input(\"Enter the substring: \")\n",
    "if sub in s:\n",
    "    print(f\"'{sub}' is present in the string.\")\n",
    "else:\n",
    "    print(f\"'{sub}' is not present in the string.\")"
   ]
  },
  {
   "cell_type": "code",
   "execution_count": null,
   "metadata": {},
   "outputs": [],
   "source": [
    "# Replace all occurrences of a character\n",
    "s = input(\"Enter the string: \")\n",
    "old_char = input(\"Enter the character to replace: \")\n",
    "new_char = input(\"Enter the new character: \")\n",
    "print(f\"Updated String: {s.replace(old_char, new_char)}\")"
   ]
  },
  {
   "cell_type": "code",
   "execution_count": null,
   "metadata": {},
   "outputs": [],
   "source": [
    "# Compute the sum of digits of a number\n",
    "num = input(\"Enter a number: \")\n",
    "digit_sum = sum(int(digit) for digit in num if digit.isdigit())\n",
    "print(f\"Sum of digits: {digit_sum}\")"
   ]
  },
  {
   "cell_type": "code",
   "execution_count": null,
   "metadata": {},
   "outputs": [],
   "source": [
    "# Convert miles to kilometers\n",
    "miles = float(input(\"Enter distance in miles: \"))\n",
    "kilometers = miles * 1.60934\n",
    "print(f\"Distance in kilometers: {kilometers:.2f}\")"
   ]
  },
  {
   "cell_type": "code",
   "execution_count": null,
   "metadata": {},
   "outputs": [],
   "source": [
    "# Mask a password with asterisks\n",
    "password = input(\"Enter your password: \")\n",
    "print(f\"Masked Password: {'*' * len(password)}\")"
   ]
  },
  {
   "cell_type": "code",
   "execution_count": null,
   "metadata": {},
   "outputs": [],
   "source": [
    "# Calculate factorial using a for loop\n",
    "num = int(input(\"Enter a number: \"))\n",
    "factorial = 1\n",
    "for i in range(1, num + 1):\n",
    "    factorial *= i\n",
    "print(f\"Factorial of {num} is {factorial}\")"
   ]
  },
  {
   "cell_type": "code",
   "execution_count": null,
   "metadata": {},
   "outputs": [],
   "source": [
    "# Print Fibonacci sequence up to n terms\n",
    "n = int(input(\"Enter the number of terms: \"))\n",
    "a, b = 0, 1\n",
    "print(\"Fibonacci Sequence:\", end=\" \")\n",
    "for _ in range(n):\n",
    "    print(a, end=\" \")\n",
    "    a, b = b, a + b\n",
    "print()"
   ]
  },
  {
   "cell_type": "code",
   "execution_count": null,
   "metadata": {},
   "outputs": [],
   "source": [
    "# Check if a number is prime\n",
    "def is_prime(num):\n",
    "    if num <= 1:\n",
    "        return False\n",
    "    for i in range(2, int(num ** 0.5) + 1):\n",
    "        if num % i == 0:\n",
    "            return False\n",
    "    return True\n",
    "\n",
    "num = int(input(\"Enter a number: \"))\n",
    "print(f\"{num} is {'a prime' if is_prime(num) else 'not a prime'} number.\")"
   ]
  },
  {
   "cell_type": "code",
   "execution_count": null,
   "metadata": {},
   "outputs": [],
   "source": [
    "# Display all primes in a range\n",
    "start = int(input(\"Enter the start of range: \"))\n",
    "end = int(input(\"Enter the end of range: \"))\n",
    "primes = [num for num in range(start, end + 1) if is_prime(num)]\n",
    "print(f\"Prime numbers between {start} and {end}: {primes}\")"
   ]
  },
  {
   "cell_type": "code",
   "execution_count": null,
   "metadata": {},
   "outputs": [],
   "source": [
    "# Check if a number is a palindrome\n",
    "num = input(\"Enter a number: \")\n",
    "print(f\"{num} is {'a palindrome' if num == num[::-1] else 'not a palindrome'}.\")"
   ]
  },
  {
   "cell_type": "code",
   "execution_count": null,
   "metadata": {},
   "outputs": [],
   "source": [
    "import random\n",
    "\n",
    "# Guess the number game\n",
    "random_num = random.randint(1, 10)\n",
    "guess = None\n",
    "print(\"Guess a number between 1 and 10.\")\n",
    "while guess != random_num:\n",
    "    guess = int(input(\"Your guess: \"))\n",
    "    if guess < random_num:\n",
    "        print(\"Too low!\")\n",
    "    elif guess > random_num:\n",
    "        print(\"Too high!\")\n",
    "print(\"You guessed it!\")"
   ]
  },
  {
   "cell_type": "code",
   "execution_count": null,
   "metadata": {},
   "outputs": [],
   "source": [
    "# Perform matrix addition\n",
    "rows = int(input(\"Enter the number of rows: \"))\n",
    "cols = int(input(\"Enter the number of columns: \"))\n",
    "matrix1 = [[int(input(f\"Enter element for Matrix1[{i}][{j}]: \")) for j in range(cols)] for i in range(rows)]\n",
    "matrix2 = [[int(input(f\"Enter element for Matrix2[{i}][{j}]: \")) for j in range(cols)] for i in range(rows)]\n",
    "\n",
    "result = [[matrix1[i][j] + matrix2[i][j] for j in range(cols)] for i in range(rows)]\n",
    "print(\"Resultant Matrix:\")\n",
    "for row in result:\n",
    "    print(row)"
   ]
  },
  {
   "cell_type": "code",
   "execution_count": null,
   "metadata": {},
   "outputs": [],
   "source": [
    "# Transpose a matrix\n",
    "matrix = [[int(input(f\"Enter element [{i}][{j}]: \")) for j in range(3)] for i in range(3)]\n",
    "transpose = [[matrix[j][i] for j in range(len(matrix))] for i in range(len(matrix[0]))]\n",
    "print(\"Transpose:\")\n",
    "for row in transpose:\n",
    "    print(row)"
   ]
  },
  {
   "cell_type": "code",
   "execution_count": null,
   "metadata": {},
   "outputs": [],
   "source": [
    "# Bubble sort implementation\n",
    "nums = [int(x) for x in input(\"Enter numbers separated by space: \").split()]\n",
    "n = len(nums)\n",
    "for i in range(n):\n",
    "    for j in range(n - i - 1):\n",
    "        if nums[j] > nums[j + 1]:\n",
    "            nums[j], nums[j + 1] = nums[j + 1], nums[j]\n",
    "print(f\"Sorted List: {nums}\")"
   ]
  },
  {
   "cell_type": "code",
   "execution_count": null,
   "metadata": {},
   "outputs": [],
   "source": [
    "# Binary search\n",
    "def binary_search(lst, target):\n",
    "    low, high = 0, len(lst) - 1\n",
    "    while low <= high:\n",
    "        mid = (low + high) // 2\n",
    "        if lst[mid] == target:\n",
    "            return mid\n",
    "        elif lst[mid] < target:\n",
    "            low = mid + 1\n",
    "        else:\n",
    "            high = mid - 1\n",
    "    return -1\n",
    "\n",
    "lst = sorted([int(x) for x in input(\"Enter sorted numbers separated by space: \").split()])\n",
    "target = int(input(\"Enter the number to find: \"))\n",
    "index = binary_search(lst, target)\n",
    "print(f\"{target} is at index {index}\" if index != -1 else \"Not found\")"
   ]
  },
  {
   "cell_type": "code",
   "execution_count": null,
   "metadata": {},
   "outputs": [],
   "source": [
    "# Remove duplicates from a list\n",
    "nums = [int(x) for x in input(\"Enter numbers separated by space: \").split()]\n",
    "unique_nums = list(set(nums))\n",
    "print(f\"List without duplicates: {unique_nums}\")"
   ]
  },
  {
   "cell_type": "code",
   "execution_count": null,
   "metadata": {},
   "outputs": [],
   "source": [
    "# Find the second largest element\n",
    "nums = sorted(set([int(x) for x in input(\"Enter numbers separated by space: \").split()]))\n",
    "print(f\"Second largest element: {nums[-2]}\")"
   ]
  },
  {
   "cell_type": "code",
   "execution_count": null,
   "metadata": {},
   "outputs": [],
   "source": [
    "# List of squares\n",
    "squares = [x ** 2 for x in range(1, 11)]\n",
    "print(f\"Squares: {squares}\")"
   ]
  },
  {
   "cell_type": "code",
   "execution_count": null,
   "metadata": {},
   "outputs": [],
   "source": [
    "# Create dictionary of squares\n",
    "n = int(input(\"Enter n: \"))\n",
    "squares_dict = {x: x ** 2 for x in range(1, n + 1)}\n",
    "print(squares_dict)"
   ]
  },
  {
   "cell_type": "code",
   "execution_count": null,
   "metadata": {},
   "outputs": [],
   "source": [
    "# Invert a dictionary\n",
    "original_dict = {'a': 1, 'b': 2, 'c': 3}\n",
    "inverted_dict = {v: k for k, v in original_dict.items()}\n",
    "print(f\"Inverted Dictionary: {inverted_dict}\")"
   ]
  },
  {
   "cell_type": "code",
   "execution_count": null,
   "metadata": {},
   "outputs": [],
   "source": [
    "# Count frequency of elements in a list\n",
    "nums = [int(x) for x in input(\"Enter numbers separated by space: \").split()]\n",
    "frequency = {}\n",
    "for num in nums:\n",
    "    frequency[num] = frequency.get(num, 0) + 1\n",
    "print(f\"Frequency: {frequency}\")"
   ]
  },
  {
   "cell_type": "code",
   "execution_count": null,
   "metadata": {},
   "outputs": [],
   "source": [
    "# Perform set operations\n",
    "set1 = {1, 2, 3, 4}\n",
    "set2 = {3, 4, 5, 6}\n",
    "print(f\"Union: {set1 | set2}\")\n",
    "print(f\"Intersection: {set1 & set2}\")\n",
    "print(f\"Difference (set1 - set2): {set1 - set2}\")"
   ]
  },
  {
   "cell_type": "code",
   "execution_count": null,
   "metadata": {},
   "outputs": [],
   "source": [
    "# Recursive sum of a list\n",
    "def recursive_sum(lst):\n",
    "    if not lst:\n",
    "        return 0\n",
    "    return lst[0] + recursive_sum(lst[1:])\n",
    "\n",
    "nums = [int(x) for x in input(\"Enter numbers separated by space: \").split()]\n",
    "print(f\"Sum of list: {recursive_sum(nums)}\")"
   ]
  },
  {
   "cell_type": "code",
   "execution_count": null,
   "metadata": {},
   "outputs": [],
   "source": [
    "# Find GCD using Euclidean algorithm\n",
    "def gcd(a, b):\n",
    "    while b:\n",
    "        a, b = b, a % b\n",
    "    return a\n",
    "\n",
    "a, b = map(int, input(\"Enter two numbers: \").split())\n",
    "print(f\"GCD of {a} and {b} is {gcd(a, b)}\")"
   ]
  },
  {
   "cell_type": "code",
   "execution_count": null,
   "metadata": {},
   "outputs": [],
   "source": [
    "# Find LCM using GCD\n",
    "def lcm(a, b):\n",
    "    return abs(a * b) // gcd(a, b)\n",
    "\n",
    "a, b = map(int, input(\"Enter two numbers: \").split())\n",
    "print(f\"LCM of {a} and {b} is {lcm(a, b)}\")"
   ]
  },
  {
   "cell_type": "code",
   "execution_count": null,
   "metadata": {},
   "outputs": [],
   "source": [
    "# Read and print file contents\n",
    "file_path = input(\"Enter the file path: \")\n",
    "with open(file_path, 'r') as file:\n",
    "    print(file.read())"
   ]
  },
  {
   "cell_type": "code",
   "execution_count": null,
   "metadata": {},
   "outputs": [],
   "source": [
    "# Write user input to a file\n",
    "content = input(\"Enter text to write to the file: \")\n",
    "file_path = input(\"Enter the file name: \")\n",
    "with open(file_path, 'w') as file:\n",
    "    file.write(content)\n",
    "print(f\"Content written to {file_path}\")"
   ]
  },
  {
   "cell_type": "code",
   "execution_count": null,
   "metadata": {},
   "outputs": [],
   "source": [
    "# Copy contents of one file to another\n",
    "source = input(\"Enter the source file path: \")\n",
    "destination = input(\"Enter the destination file path: \")\n",
    "with open(source, 'r') as src, open(destination, 'w') as dest:\n",
    "    dest.write(src.read())\n",
    "print(f\"Copied content from {source} to {destination}\")"
   ]
  },
  {
   "cell_type": "code",
   "execution_count": null,
   "metadata": {},
   "outputs": [],
   "source": [
    "# Count lines in a file\n",
    "file_path = input(\"Enter the file path: \")\n",
    "with open(file_path, 'r') as file:\n",
    "    lines = file.readlines()\n",
    "print(f\"Number of lines: {len(lines)}\")"
   ]
  },
  {
   "cell_type": "code",
   "execution_count": null,
   "metadata": {},
   "outputs": [],
   "source": [
    "# Read and print rows of a CSV file\n",
    "import csv\n",
    "file_path = input(\"Enter the CSV file path: \")\n",
    "with open(file_path, 'r') as file:\n",
    "    reader = csv.reader(file)\n",
    "    for row in reader:\n",
    "        print(row)"
   ]
  },
  {
   "cell_type": "code",
   "execution_count": null,
   "metadata": {},
   "outputs": [],
   "source": [
    "# Convert string to integer with error handling\n",
    "def safe_convert(string):\n",
    "    try:\n",
    "        return int(string)\n",
    "    except ValueError:\n",
    "        print(f\"Error: '{string}' is not a valid integer.\")\n",
    "\n",
    "value = input(\"Enter a string to convert to integer: \")\n",
    "result = safe_convert(value)\n",
    "if result is not None:\n",
    "    print(f\"Converted value: {result}\")"
   ]
  },
  {
   "cell_type": "code",
   "execution_count": null,
   "metadata": {},
   "outputs": [],
   "source": [
    "# Find and replace a word in a file\n",
    "file_path = input(\"Enter the file path: \")\n",
    "old_word = input(\"Enter the word to replace: \")\n",
    "new_word = input(\"Enter the new word: \")\n",
    "\n",
    "with open(file_path, 'r') as file:\n",
    "    content = file.read()\n",
    "\n",
    "content = content.replace(old_word, new_word)\n",
    "\n",
    "with open(file_path, 'w') as file:\n",
    "    file.write(content)\n",
    "\n",
    "print(f\"Replaced '{old_word}' with '{new_word}' in {file_path}\")"
   ]
  },
  {
   "cell_type": "code",
   "execution_count": null,
   "metadata": {},
   "outputs": [],
   "source": [
    "# Log messages using logging module\n",
    "import logging\n",
    "\n",
    "logging.basicConfig(filename='app.log', level=logging.INFO, format='%(asctime)s - %(levelname)s - %(message)s')\n",
    "\n",
    "logging.info(\"This is an informational message.\")\n",
    "logging.error(\"This is an error message.\")\n",
    "print(\"Logged info and error messages to app.log\")"
   ]
  },
  {
   "cell_type": "code",
   "execution_count": null,
   "metadata": {},
   "outputs": [],
   "source": [
    "# Command-line arguments script\n",
    "import sys\n",
    "\n",
    "if len(sys.argv) > 1:\n",
    "    print(\"Command-line arguments:\")\n",
    "    for arg in sys.argv[1:]:\n",
    "        print(arg)\n",
    "else:\n",
    "    print(\"No arguments provided.\")"
   ]
  },
  {
   "cell_type": "code",
   "execution_count": null,
   "metadata": {},
   "outputs": [],
   "source": [
    "# Read and write JSON\n",
    "import json\n",
    "\n",
    "file_path = input(\"Enter the JSON file path: \")\n",
    "with open(file_path, 'r') as file:\n",
    "    data = json.load(file)\n",
    "\n",
    "print(f\"Original Data: {data}\")\n",
    "\n",
    "key = input(\"Enter the key to modify: \")\n",
    "if key in data:\n",
    "    value = input(\"Enter the new value: \")\n",
    "    data[key] = value\n",
    "    with open(file_path, 'w') as file:\n",
    "        json.dump(data, file, indent=4)\n",
    "    print(\"Updated the JSON file.\")\n",
    "else:\n",
    "    print(f\"Key '{key}' not found in the JSON file.\")"
   ]
  },
  {
   "cell_type": "code",
   "execution_count": null,
   "metadata": {},
   "outputs": [],
   "source": [
    "class Person:\n",
    "    def __init__(self, name, age):\n",
    "        self.name = name\n",
    "        self.age = age\n",
    "\n",
    "    def greet(self):\n",
    "        print(f\"Hello, my name is {self.name}.\")\n",
    "\n",
    "# Example Usage\n",
    "person = Person(\"Alice\", 25)\n",
    "person.greet()"
   ]
  },
  {
   "cell_type": "code",
   "execution_count": null,
   "metadata": {},
   "outputs": [],
   "source": [
    "class Animal:\n",
    "    def speak(self):\n",
    "        print(\"Animal speaks.\")\n",
    "\n",
    "class Dog(Animal):\n",
    "    def speak(self):\n",
    "        print(\"Woof!\")\n",
    "\n",
    "# Example Usage\n",
    "dog = Dog()\n",
    "dog.speak()"
   ]
  },
  {
   "cell_type": "code",
   "execution_count": null,
   "metadata": {},
   "outputs": [],
   "source": [
    "class BankAccount:\n",
    "    def __init__(self, balance=0):\n",
    "        self._balance = balance\n",
    "\n",
    "    def get_balance(self):\n",
    "        return self._balance\n",
    "\n",
    "    def set_balance(self, amount):\n",
    "        if amount >= 0:\n",
    "            self._balance = amount\n",
    "        else:\n",
    "            print(\"Balance cannot be negative.\")\n",
    "\n",
    "# Example Usage\n",
    "account = BankAccount()\n",
    "account.set_balance(100)\n",
    "print(account.get_balance())"
   ]
  },
  {
   "cell_type": "code",
   "execution_count": null,
   "metadata": {},
   "outputs": [],
   "source": [
    "class Circle:\n",
    "    def draw(self):\n",
    "        print(\"Drawing a circle.\")\n",
    "\n",
    "class Square:\n",
    "    def draw(self):\n",
    "        print(\"Drawing a square.\")\n",
    "\n",
    "class Triangle:\n",
    "    def draw(self):\n",
    "        print(\"Drawing a triangle.\")\n",
    "\n",
    "# Example Usage\n",
    "shapes = [Circle(), Square(), Triangle()]\n",
    "for shape in shapes:\n",
    "    shape.draw()"
   ]
  },
  {
   "cell_type": "code",
   "execution_count": null,
   "metadata": {},
   "outputs": [],
   "source": [
    "class Point:\n",
    "    def __init__(self, x, y):\n",
    "        self.x = x\n",
    "        self.y = y\n",
    "\n",
    "    def __add__(self, other):\n",
    "        return Point(self.x + other.x, self.y + other.y)\n",
    "\n",
    "    def __str__(self):\n",
    "        return f\"({self.x}, {self.y})\"\n",
    "\n",
    "# Example Usage\n",
    "p1 = Point(1, 2)\n",
    "p2 = Point(3, 4)\n",
    "print(p1 + p2)"
   ]
  },
  {
   "cell_type": "code",
   "execution_count": null,
   "metadata": {},
   "outputs": [],
   "source": [
    "from abc import ABC, abstractmethod\n",
    "\n",
    "class Shape(ABC):\n",
    "    @abstractmethod\n",
    "    def area(self):\n",
    "        pass\n",
    "\n",
    "class Circle(Shape):\n",
    "    def __init__(self, radius):\n",
    "        self.radius = radius\n",
    "\n",
    "    def area(self):\n",
    "        return 3.14 * self.radius * self.radius\n",
    "\n",
    "class Rectangle(Shape):\n",
    "    def __init__(self, width, height):\n",
    "        self.width = width\n",
    "        self.height = height\n",
    "\n",
    "    def area(self):\n",
    "        return self.width * self.height\n",
    "\n",
    "# Example Usage\n",
    "circle = Circle(5)\n",
    "rectangle = Rectangle(4, 6)\n",
    "print(circle.area())\n",
    "print(rectangle.area())"
   ]
  },
  {
   "cell_type": "code",
   "execution_count": null,
   "metadata": {},
   "outputs": [],
   "source": [
    "class Product:\n",
    "    def __init__(self):\n",
    "        self._price = 0\n",
    "\n",
    "    @property\n",
    "    def price(self):\n",
    "        return self._price\n",
    "\n",
    "    @price.setter\n",
    "    def price(self, value):\n",
    "        if value < 0:\n",
    "            print(\"Price cannot be negative.\")\n",
    "        else:\n",
    "            self._price = value\n",
    "\n",
    "# Example Usage\n",
    "product = Product()\n",
    "product.price = 50\n",
    "print(product.price)"
   ]
  },
  {
   "cell_type": "code",
   "execution_count": null,
   "metadata": {},
   "outputs": [],
   "source": [
    "import argparse\n",
    "\n",
    "parser = argparse.ArgumentParser(description=\"A simple CLI app.\")\n",
    "parser.add_argument(\"--input\", type=str, help=\"Input file path\")\n",
    "parser.add_argument(\"--verbose\", action=\"store_true\", help=\"Enable verbose mode\")\n",
    "\n",
    "args = parser.parse_args()\n",
    "\n",
    "if args.verbose:\n",
    "    print(\"Verbose mode enabled.\")\n",
    "if args.input:\n",
    "    print(f\"Input file: {args.input}\")"
   ]
  },
  {
   "cell_type": "code",
   "execution_count": null,
   "metadata": {},
   "outputs": [],
   "source": [
    "def flatten(nested_list):\n",
    "    flat_list = []\n",
    "    for item in nested_list:\n",
    "        if isinstance(item, list):\n",
    "            flat_list.extend(flatten(item))\n",
    "        else:\n",
    "            flat_list.append(item)\n",
    "    return flat_list\n",
    "\n",
    "# Example Usage\n",
    "nested = [1, [2, [3, 4]], 5]\n",
    "print(flatten(nested))"
   ]
  },
  {
   "cell_type": "code",
   "execution_count": null,
   "metadata": {},
   "outputs": [],
   "source": [
    "def merge_sort(arr):\n",
    "    if len(arr) <= 1:\n",
    "        return arr\n",
    "    mid = len(arr) // 2\n",
    "    left = merge_sort(arr[:mid])\n",
    "    right = merge_sort(arr[mid:])\n",
    "    return merge(left, right)\n",
    "\n",
    "def merge(left, right):\n",
    "    sorted_arr = []\n",
    "    while left and right:\n",
    "        if left[0] < right[0]:\n",
    "            sorted_arr.append(left.pop(0))\n",
    "        else:\n",
    "            sorted_arr.append(right.pop(0))\n",
    "    sorted_arr.extend(left or right)\n",
    "    return sorted_arr\n",
    "\n",
    "# Example Usage\n",
    "print(merge_sort([5, 2, 9, 1, 5, 6]))"
   ]
  },
  {
   "cell_type": "code",
   "execution_count": null,
   "metadata": {},
   "outputs": [],
   "source": [
    "def quick_sort(arr):\n",
    "    if len(arr) <= 1:\n",
    "        return arr\n",
    "    pivot = arr[0]\n",
    "    less = [x for x in arr[1:] if x <= pivot]\n",
    "    greater = [x for x in arr[1:] if x > pivot]\n",
    "    return quick_sort(less) + [pivot] + quick_sort(greater)\n",
    "\n",
    "# Example Usage\n",
    "print(quick_sort([5, 2, 9, 1, 5, 6]))"
   ]
  },
  {
   "cell_type": "code",
   "execution_count": null,
   "metadata": {},
   "outputs": [],
   "source": [
    "from collections import deque\n",
    "\n",
    "def bfs(graph, start):\n",
    "    visited = set()\n",
    "    queue = deque([start])\n",
    "    result = []\n",
    "\n",
    "    while queue:\n",
    "        node = queue.popleft()\n",
    "        if node not in visited:\n",
    "            visited.add(node)\n",
    "            result.append(node)\n",
    "            queue.extend(graph[node])\n",
    "\n",
    "    return result\n",
    "\n",
    "# Example Usage\n",
    "graph = {\n",
    "    \"A\": [\"B\", \"C\"],\n",
    "    \"B\": [\"D\", \"E\"],\n",
    "    \"C\": [\"F\"],\n",
    "    \"D\": [],\n",
    "    \"E\": [\"F\"],\n",
    "    \"F\": []\n",
    "}\n",
    "print(bfs(graph, \"A\"))"
   ]
  },
  {
   "cell_type": "code",
   "execution_count": null,
   "metadata": {},
   "outputs": [],
   "source": [
    "def dfs_recursive(graph, node, visited=None):\n",
    "    if visited is None:\n",
    "        visited = set()\n",
    "    visited.add(node)\n",
    "    print(node, end=\" \")\n",
    "\n",
    "    for neighbor in graph[node]:\n",
    "        if neighbor not in visited:\n",
    "            dfs_recursive(graph, neighbor, visited)\n",
    "\n",
    "# Example Usage\n",
    "graph = {\n",
    "    \"A\": [\"B\", \"C\"],\n",
    "    \"B\": [\"D\", \"E\"],\n",
    "    \"C\": [\"F\"],\n",
    "    \"D\": [],\n",
    "    \"E\": [\"F\"],\n",
    "    \"F\": []\n",
    "}\n",
    "dfs_recursive(graph, \"A\")"
   ]
  },
  {
   "cell_type": "code",
   "execution_count": null,
   "metadata": {},
   "outputs": [],
   "source": [
    "def dfs_iterative(graph, start):\n",
    "    visited = set()\n",
    "    stack = [start]\n",
    "    result = []\n",
    "\n",
    "    while stack:\n",
    "        node = stack.pop()\n",
    "        if node not in visited:\n",
    "            visited.add(node)\n",
    "            result.append(node)\n",
    "            stack.extend(reversed(graph[node]))\n",
    "\n",
    "    return result\n",
    "\n",
    "# Example Usage\n",
    "print(dfs_iterative(graph, \"A\"))"
   ]
  },
  {
   "cell_type": "code",
   "execution_count": null,
   "metadata": {},
   "outputs": [],
   "source": [
    "def has_path(grid):\n",
    "    rows, cols = len(grid), len(grid[0])\n",
    "    stack = [(0, 0)]\n",
    "    visited = set()\n",
    "\n",
    "    while stack:\n",
    "        x, y = stack.pop()\n",
    "        if (x, y) == (rows - 1, cols - 1):\n",
    "            return True\n",
    "        if (x, y) in visited:\n",
    "            continue\n",
    "        visited.add((x, y))\n",
    "\n",
    "        for dx, dy in [(1, 0), (0, 1)]:  # Move right or down\n",
    "            nx, ny = x + dx, y + dy\n",
    "            if 0 <= nx < rows and 0 <= ny < cols and grid[nx][ny] == 0:\n",
    "                stack.append((nx, ny))\n",
    "\n",
    "    return False\n",
    "\n",
    "# Example Usage\n",
    "grid = [\n",
    "    [0, 1, 0],\n",
    "    [0, 0, 1],\n",
    "    [1, 0, 0]\n",
    "]\n",
    "print(has_path(grid))"
   ]
  },
  {
   "cell_type": "code",
   "execution_count": null,
   "metadata": {},
   "outputs": [],
   "source": [
    "import re\n",
    "\n",
    "def validate_phone_numbers(text):\n",
    "    pattern = r\"\\b\\d{10}\\b\"  # Simple pattern for 10-digit numbers\n",
    "    return re.findall(pattern, text)\n",
    "\n",
    "# Example Usage\n",
    "text = \"Contact: 1234567890, 9876543210. Invalid: 12345, 12345678901.\"\n",
    "print(validate_phone_numbers(text))"
   ]
  },
  {
   "cell_type": "code",
   "execution_count": null,
   "metadata": {},
   "outputs": [],
   "source": [
    "import re\n",
    "\n",
    "def extract_emails(text):\n",
    "    pattern = r\"[a-zA-Z0-9._%+-]+@[a-zA-Z0-9.-]+\\.[a-zA-Z]{2,}\"\n",
    "    return re.findall(pattern, text)\n",
    "\n",
    "# Example Usage\n",
    "text = \"Emails: john.doe@example.com, alice@company.org. Invalid: user@domain, test@com.\"\n",
    "print(extract_emails(text))"
   ]
  },
  {
   "cell_type": "code",
   "execution_count": null,
   "metadata": {},
   "outputs": [],
   "source": [
    "import time\n",
    "\n",
    "def timer(func):\n",
    "    def wrapper(*args, **kwargs):\n",
    "        start = time.time()\n",
    "        result = func(*args, **kwargs)\n",
    "        end = time.time()\n",
    "        print(f\"{func.__name__} executed in {end - start:.4f} seconds\")\n",
    "        return result\n",
    "    return wrapper\n",
    "\n",
    "@timer\n",
    "def example_function(n):\n",
    "    time.sleep(n)\n",
    "\n",
    "# Example Usage\n",
    "example_function(2)"
   ]
  },
  {
   "cell_type": "code",
   "execution_count": null,
   "metadata": {},
   "outputs": [],
   "source": [
    "from contextlib import contextmanager\n",
    "\n",
    "@contextmanager\n",
    "def log_block():\n",
    "    print(\"Code block started.\")\n",
    "    yield\n",
    "    print(\"Code block ended.\")\n",
    "\n",
    "# Example Usage\n",
    "with log_block():\n",
    "    print(\"Inside the block.\")"
   ]
  },
  {
   "cell_type": "code",
   "execution_count": null,
   "metadata": {},
   "outputs": [],
   "source": [
    "import threading\n",
    "import time\n",
    "\n",
    "def print_numbers():\n",
    "    for i in range(1, 6):\n",
    "        print(i, end=\" \")\n",
    "        time.sleep(0.5)\n",
    "\n",
    "def print_letters():\n",
    "    for letter in \"ABCDE\":\n",
    "        print(letter, end=\" \")\n",
    "        time.sleep(0.5)\n",
    "\n",
    "# Example Usage\n",
    "t1 = threading.Thread(target=print_numbers)\n",
    "t2 = threading.Thread(target=print_letters)\n",
    "\n",
    "t1.start()\n",
    "t2.start()\n",
    "\n",
    "t1.join()\n",
    "t2.join()"
   ]
  },
  {
   "cell_type": "code",
   "execution_count": null,
   "metadata": {},
   "outputs": [],
   "source": [
    "import threading\n",
    "import time\n",
    "\n",
    "def print_numbers():\n",
    "    for i in range(1, 6):\n",
    "        print(i, end=\" \")\n",
    "        time.sleep(0.5)\n",
    "\n",
    "def print_letters():\n",
    "    for letter in \"ABCDE\":\n",
    "        print(letter, end=\" \")\n",
    "        time.sleep(0.5)\n",
    "\n",
    "# Example Usage\n",
    "t1 = threading.Thread(target=print_numbers)\n",
    "t2 = threading.Thread(target=print_letters)\n",
    "\n",
    "t1.start()\n",
    "t2.start()\n",
    "\n",
    "t1.join()\n",
    "t2.join()"
   ]
  },
  {
   "cell_type": "code",
   "execution_count": null,
   "metadata": {},
   "outputs": [],
   "source": [
    "from multiprocessing import Pool\n",
    "\n",
    "def square(n):\n",
    "    return n * n\n",
    "\n",
    "# Example Usage\n",
    "if __name__ == \"__main__\":\n",
    "    with Pool(4) as pool:\n",
    "        numbers = [1, 2, 3, 4, 5]\n",
    "        results = pool.map(square, numbers)\n",
    "        print(results)"
   ]
  },
  {
   "cell_type": "code",
   "execution_count": null,
   "metadata": {},
   "outputs": [],
   "source": [
    "import random\n",
    "import string\n",
    "\n",
    "def generate_password(length):\n",
    "    characters = string.ascii_letters + string.digits + string.punctuation\n",
    "    return ''.join(random.choice(characters) for _ in range(length))\n",
    "\n",
    "# Example Usage\n",
    "print(generate_password(12))"
   ]
  },
  {
   "cell_type": "code",
   "execution_count": null,
   "metadata": {},
   "outputs": [],
   "source": [
    "import requests\n",
    "\n",
    "def fetch_data(url):\n",
    "    response = requests.get(url)\n",
    "    if response.status_code == 200:\n",
    "        return response.json()\n",
    "    else:\n",
    "        print(f\"Failed to fetch data. Status code: {response.status_code}\")\n",
    "\n",
    "# Example Usage\n",
    "url = \"https://jsonplaceholder.typicode.com/posts/1\"\n",
    "print(fetch_data(url))"
   ]
  },
  {
   "cell_type": "code",
   "execution_count": null,
   "metadata": {},
   "outputs": [],
   "source": [
    "from typing import List, Dict\n",
    "\n",
    "def add(a: int, b: int) -> int:\n",
    "    return a + b\n",
    "\n",
    "def greet(name: str) -> str:\n",
    "    return f\"Hello, {name}!\"\n",
    "\n",
    "def average(numbers: List[float]) -> float:\n",
    "    return sum(numbers) / len(numbers)\n",
    "\n",
    "# Example Usage\n",
    "print(add(5, 3))\n",
    "print(greet(\"Alice\"))\n",
    "print(average([1.5, 2.5, 3.5]))\n",
    "\n",
    "# Running mypy (command-line):\n",
    "# Save this file as `type_hints.py`, then run: mypy type_hints.py"
   ]
  },
  {
   "cell_type": "code",
   "execution_count": null,
   "metadata": {},
   "outputs": [],
   "source": [
    "def add(a, b):\n",
    "    return a + b\n",
    "\n",
    "def subtract(a, b):\n",
    "    return a - b\n",
    "\n",
    "def multiply(a, b):\n",
    "    return a * b\n",
    "\n",
    "def divide(a, b):\n",
    "    if b == 0:\n",
    "        raise ValueError(\"Cannot divide by zero.\")\n",
    "    return a / b"
   ]
  },
  {
   "cell_type": "code",
   "execution_count": null,
   "metadata": {},
   "outputs": [],
   "source": [
    "import unittest\n",
    "from calculator import add, subtract, multiply, divide\n",
    "\n",
    "class TestCalculator(unittest.TestCase):\n",
    "    def test_add(self):\n",
    "        self.assertEqual(add(3, 2), 5)\n",
    "\n",
    "    def test_subtract(self):\n",
    "        self.assertEqual(subtract(5, 2), 3)\n",
    "\n",
    "    def test_multiply(self):\n",
    "        self.assertEqual(multiply(4, 3), 12)\n",
    "\n",
    "    def test_divide(self):\n",
    "        self.assertEqual(divide(10, 2), 5)\n",
    "        with self.assertRaises(ValueError):\n",
    "            divide(5, 0)\n",
    "\n",
    "if __name__ == \"__main__\":\n",
    "    unittest.main()"
   ]
  },
  {
   "cell_type": "code",
   "execution_count": null,
   "metadata": {},
   "outputs": [],
   "source": [
    "import pytest\n",
    "from calculator import add, subtract, multiply, divide\n",
    "\n",
    "def test_add():\n",
    "    assert add(3, 2) == 5\n",
    "\n",
    "def test_subtract():\n",
    "    assert subtract(5, 2) == 3\n",
    "\n",
    "def test_multiply():\n",
    "    assert multiply(4, 3) == 12\n",
    "\n",
    "def test_divide():\n",
    "    assert divide(10, 2) == 5\n",
    "    with pytest.raises(ValueError):\n",
    "        divide(5, 0)\n",
    "\n",
    "# Run with:\n",
    "# pytest test_calculator.py\n",
    "\n",
    "@pytest.mark.parametrize(\"a, b, expected\", [(3, 2, 5), (0, 5, 5), (-3, 3, 0)])\n",
    "def test_add_param(a, b, expected):\n",
    "    assert add(a, b) == expected"
   ]
  },
  {
   "cell_type": "code",
   "execution_count": null,
   "metadata": {},
   "outputs": [],
   "source": [
    "people = [\n",
    "    {\"name\": \"Alice\", \"age\": 25},\n",
    "    {\"name\": \"Bob\", \"age\": 20},\n",
    "    {\"name\": \"Charlie\", \"age\": 30}\n",
    "]\n",
    "\n",
    "# Sort by age\n",
    "sorted_people = sorted(people, key=lambda person: person[\"age\"])\n",
    "\n",
    "print(sorted_people)\n",
    "\n",
    "[{'name': 'Bob', 'age': 20}, {'name': 'Alice', 'age': 25}, {'name': 'Charlie', 'age': 30}]\n",
    "\n",
    "sorted_people_desc = sorted(people, key=lambda person: person[\"age\"], reverse=True)\n",
    "print(sorted_people_desc)"
   ]
  },
  {
   "cell_type": "code",
   "execution_count": null,
   "metadata": {},
   "outputs": [],
   "source": [
    "class Person:\n",
    "    def __init__(self, name):\n",
    "        self.name = name\n",
    "\n",
    "    def greet(self):\n",
    "        print(f\"Hello, my name is {self.name}\")"
   ]
  },
  {
   "cell_type": "code",
   "execution_count": null,
   "metadata": {},
   "outputs": [],
   "source": [
    "class Car:\n",
    "    def __init__(self, make, model, year):\n",
    "        self.make = make\n",
    "        self.model = model\n",
    "        self.year = year\n",
    "\n",
    "    def display_details(self):\n",
    "        print(f\"Car: {self.make}, Model: {self.model}, Year: {self.year}\")\n",
    "\n",
    "\n",
    "car = Car(\"Toyota\", \"Corolla\", 2020)\n",
    "car.display_details()"
   ]
  },
  {
   "cell_type": "code",
   "execution_count": null,
   "metadata": {},
   "outputs": [],
   "source": [
    "class Car:\n",
    "    def __init__(self, make=\"Unknown\", model=\"Unknown\", year=2000):\n",
    "        self.make = make\n",
    "        self.model = model\n",
    "        self.year = year\n",
    "\n",
    "    def display_details(self):\n",
    "        print(f\"Car: {self.make}, Model: {self.model}, Year: {self.year}\")\n",
    "\n",
    "\n",
    "car = Car()\n",
    "car.display_details()"
   ]
  },
  {
   "cell_type": "code",
   "execution_count": null,
   "metadata": {},
   "outputs": [],
   "source": [
    "class Animal:\n",
    "    def __init__(self, name):\n",
    "        self.name = name\n",
    "\n",
    "    def speak(self):\n",
    "        print(f\"{self.name} makes a sound\")\n",
    "\n",
    "\n",
    "class Dog(Animal):\n",
    "    def __init__(self, name):\n",
    "        super().__init__(name)\n",
    "\n",
    "\n",
    "dog = Dog(\"Buddy\")\n",
    "dog.speak()"
   ]
  },
  {
   "cell_type": "code",
   "execution_count": null,
   "metadata": {},
   "outputs": [],
   "source": [
    "class Animal:\n",
    "    def __init__(self, name):\n",
    "        self.name = name\n",
    "\n",
    "    def speak(self):\n",
    "        print(f\"{self.name} makes a sound\")\n",
    "\n",
    "\n",
    "class Dog(Animal):\n",
    "    def speak(self):\n",
    "        print(f\"{self.name} says Woof!\")\n",
    "\n",
    "\n",
    "dog = Dog(\"Buddy\")\n",
    "dog.speak()"
   ]
  },
  {
   "cell_type": "code",
   "execution_count": null,
   "metadata": {},
   "outputs": [],
   "source": [
    "class Rectangle:\n",
    "    def __init__(self, length, width):\n",
    "        self.length = length\n",
    "        self.width = width\n",
    "\n",
    "\n",
    "class Square(Rectangle):\n",
    "    def __init__(self, side):\n",
    "        super().__init__(side, side)"
   ]
  },
  {
   "cell_type": "code",
   "execution_count": null,
   "metadata": {},
   "outputs": [],
   "source": [
    "class BankAccount:\n",
    "    def __init__(self, balance=0):\n",
    "        self.__balance = balance\n",
    "\n",
    "    def get_balance(self):\n",
    "        return self.__balance\n",
    "\n",
    "    def set_balance(self, balance):\n",
    "        if balance >= 0:\n",
    "            self.__balance = balance\n",
    "        else:\n",
    "            print(\"Invalid balance\")\n",
    "\n",
    "\n",
    "account = BankAccount(100)\n",
    "print(account.get_balance())\n",
    "account.set_balance(200)\n",
    "print(account.get_balance())"
   ]
  },
  {
   "cell_type": "code",
   "execution_count": null,
   "metadata": {},
   "outputs": [],
   "source": [
    "class Circle:\n",
    "    def draw(self):\n",
    "        print(\"Drawing a Circle\")\n",
    "\n",
    "\n",
    "class Triangle:\n",
    "    def draw(self):\n",
    "        print(\"Drawing a Triangle\")\n",
    "\n",
    "\n",
    "shapes = [Circle(), Triangle()]\n",
    "for shape in shapes:\n",
    "    shape.draw()"
   ]
  },
  {
   "cell_type": "code",
   "execution_count": null,
   "metadata": {},
   "outputs": [],
   "source": [
    "class Counter:\n",
    "    count = 0\n",
    "\n",
    "    @classmethod\n",
    "    def increment(cls):\n",
    "        cls.count += 1\n",
    "\n",
    "    @staticmethod\n",
    "    def message():\n",
    "        print(\"This is a utility message.\")\n",
    "\n",
    "\n",
    "Counter.increment()\n",
    "Counter.message()\n",
    "print(Counter.count)"
   ]
  },
  {
   "cell_type": "code",
   "execution_count": null,
   "metadata": {},
   "outputs": [],
   "source": [
    "class Counter:\n",
    "    count = 0\n",
    "\n",
    "    @classmethod\n",
    "    def increment(cls):\n",
    "        cls.count += 1\n",
    "\n",
    "    @staticmethod\n",
    "    def message():\n",
    "        print(\"This is a utility message.\")\n",
    "\n",
    "\n",
    "Counter.increment()\n",
    "Counter.message()\n",
    "print(Counter.count)"
   ]
  },
  {
   "cell_type": "code",
   "execution_count": null,
   "metadata": {},
   "outputs": [],
   "source": [
    "class Book:\n",
    "    def __init__(self, title, author):\n",
    "        self.title = title\n",
    "        self.author = author\n",
    "\n",
    "    def __str__(self):\n",
    "        return f\"'{self.title}' by {self.author}\"\n",
    "\n",
    "\n",
    "book = Book(\"1984\", \"George Orwell\")\n",
    "print(book)"
   ]
  },
  {
   "cell_type": "code",
   "execution_count": null,
   "metadata": {},
   "outputs": [],
   "source": [
    "class Point:\n",
    "    def __init__(self, x, y):\n",
    "        self.x = x\n",
    "        self.y = y\n",
    "\n",
    "    def __add__(self, other):\n",
    "        return Point(self.x + other.x, self.y + other.y)\n",
    "\n",
    "    def __str__(self):\n",
    "        return f\"Point({self.x}, {self.y})\"\n",
    "\n",
    "\n",
    "p1 = Point(1, 2)\n",
    "p2 = Point(3, 4)\n",
    "print(p1 + p2)"
   ]
  },
  {
   "cell_type": "code",
   "execution_count": null,
   "metadata": {},
   "outputs": [],
   "source": [
    "from abc import ABC, abstractmethod\n",
    "\n",
    "class Shape(ABC):\n",
    "    @abstractmethod\n",
    "    def area(self):\n",
    "        pass\n",
    "\n",
    "class Circle(Shape):\n",
    "    def __init__(self, radius):\n",
    "        self.radius = radius\n",
    "\n",
    "    def area(self):\n",
    "        return 3.14 * self.radius**2\n",
    "\n",
    "class Rectangle(Shape):\n",
    "    def __init__(self, length, width):\n",
    "        self.length = length\n",
    "        self.width = width\n",
    "\n",
    "    def area(self):\n",
    "        return self.length * self.width\n",
    "\n",
    "\n",
    "circle = Circle(5)\n",
    "rectangle = Rectangle(4, 6)\n",
    "print(f\"Circle area: {circle.area()}\")\n",
    "print(f\"Rectangle area: {rectangle.area()}\")"
   ]
  },
  {
   "cell_type": "code",
   "execution_count": null,
   "metadata": {},
   "outputs": [],
   "source": [
    "class Person:\n",
    "    def __init__(self, age):\n",
    "        self._age = age\n",
    "\n",
    "    @property\n",
    "    def age(self):\n",
    "        return self._age\n",
    "\n",
    "    @age.setter\n",
    "    def age(self, value):\n",
    "        if value < 0:\n",
    "            raise ValueError(\"Age cannot be negative\")\n",
    "        self._age = value\n",
    "\n",
    "\n",
    "p = Person(25)\n",
    "print(p.age)\n",
    "p.age = 30\n",
    "print(p.age)"
   ]
  },
  {
   "cell_type": "code",
   "execution_count": null,
   "metadata": {},
   "outputs": [],
   "source": [
    "class Writer:\n",
    "    def write(self):\n",
    "        print(\"Writing...\")\n",
    "\n",
    "class Editor:\n",
    "    def edit(self):\n",
    "        print(\"Editing...\")\n",
    "\n",
    "class Author(Writer, Editor):\n",
    "    pass\n",
    "\n",
    "\n",
    "author = Author()\n",
    "author.write()\n",
    "author.edit()"
   ]
  },
  {
   "cell_type": "code",
   "execution_count": null,
   "metadata": {},
   "outputs": [],
   "source": [
    "import math\n",
    "\n",
    "num = float(input(\"Enter a number: \"))\n",
    "print(f\"Square root: {math.sqrt(num)}\")\n",
    "print(f\"Floor: {math.floor(num)}\")\n",
    "print(f\"Ceiling: {math.ceil(num)}\")"
   ]
  },
  {
   "cell_type": "code",
   "execution_count": null,
   "metadata": {},
   "outputs": [],
   "source": [
    "import random\n",
    "\n",
    "def random_choice(lst):\n",
    "    return random.choice(lst)\n",
    "\n",
    "\n",
    "my_list = [1, 2, 3, 4, 5]\n",
    "print(random_choice(my_list))"
   ]
  },
  {
   "cell_type": "code",
   "execution_count": null,
   "metadata": {},
   "outputs": [],
   "source": [
    "from datetime import datetime\n",
    "\n",
    "current_time = datetime.now()\n",
    "formatted_time = current_time.strftime(\"%Y-%m-%d %H:%M:%S\")\n",
    "print(f\"Current Date and Time: {formatted_time}\")"
   ]
  },
  {
   "cell_type": "code",
   "execution_count": null,
   "metadata": {},
   "outputs": [],
   "source": [
    "import os\n",
    "\n",
    "files_and_dirs = os.listdir(\".\")\n",
    "print(\"Files and Directories:\")\n",
    "print(files_and_dirs)"
   ]
  },
  {
   "cell_type": "code",
   "execution_count": null,
   "metadata": {},
   "outputs": [],
   "source": [
    "import statistics\n",
    "\n",
    "numbers = [1, 2, 2, 3, 4, 4, 5]\n",
    "print(f\"Mean: {statistics.mean(numbers)}\")\n",
    "print(f\"Median: {statistics.median(numbers)}\")\n",
    "print(f\"Mode: {statistics.mode(numbers)}\")"
   ]
  },
  {
   "cell_type": "code",
   "execution_count": null,
   "metadata": {},
   "outputs": [],
   "source": [
    "import sys\n",
    "\n",
    "print(\"Command-line arguments:\")\n",
    "for arg in sys.argv:\n",
    "    print(arg)"
   ]
  },
  {
   "cell_type": "code",
   "execution_count": null,
   "metadata": {},
   "outputs": [],
   "source": [
    "import json\n",
    "\n",
    "data = {\"name\": \"Alice\", \"age\": 25}\n",
    "with open(\"data.json\", \"w\") as f:\n",
    "    json.dump(data, f)\n",
    "\n",
    "with open(\"data.json\", \"r\") as f:\n",
    "    data = json.load(f)\n",
    "\n",
    "data[\"age\"] = 26\n",
    "with open(\"data.json\", \"w\") as f:\n",
    "    json.dump(data, f)"
   ]
  },
  {
   "cell_type": "code",
   "execution_count": null,
   "metadata": {},
   "outputs": [],
   "source": [
    "import requests\n",
    "\n",
    "response = requests.get(\"https://jsonplaceholder.typicode.com/posts/1\")\n",
    "if response.status_code == 200:\n",
    "    print(response.json())"
   ]
  },
  {
   "cell_type": "code",
   "execution_count": null,
   "metadata": {},
   "outputs": [],
   "source": [
    "import re\n",
    "\n",
    "text = \"Contact us at support@example.com or sales@company.com.\"\n",
    "emails = re.findall(r\"[a-zA-Z0-9_.+-]+@[a-zA-Z0-9-]+\\.[a-zA-Z0-9-.]+\", text)\n",
    "print(emails)"
   ]
  },
  {
   "cell_type": "code",
   "execution_count": null,
   "metadata": {},
   "outputs": [],
   "source": [
    "import logging\n",
    "\n",
    "logging.basicConfig(filename=\"app.log\", level=logging.DEBUG)\n",
    "logging.debug(\"Debug message\")\n",
    "logging.info(\"Info message\")\n",
    "logging.warning(\"Warning message\")\n",
    "logging.error(\"Error message\")"
   ]
  },
  {
   "cell_type": "code",
   "execution_count": null,
   "metadata": {},
   "outputs": [],
   "source": [
    "lst = [1, 2, 3, 4, 5, 6]\n",
    "print(lst[::-1])  # Reverse\n",
    "print(lst[::2])   # Skip elements"
   ]
  },
  {
   "cell_type": "code",
   "execution_count": null,
   "metadata": {},
   "outputs": [],
   "source": [
    "numbers = [1, 2, 3, 4, 5]\n",
    "doubled = map(lambda x: x * 2, numbers)\n",
    "print(list(doubled))"
   ]
  },
  {
   "cell_type": "code",
   "execution_count": null,
   "metadata": {},
   "outputs": [],
   "source": [
    "from functools import reduce\n",
    "\n",
    "numbers = [1, 2, 3, 4, 5]\n",
    "filtered = filter(lambda x: x % 2 != 0, numbers)\n",
    "summed = reduce(lambda x, y: x + y, filtered)\n",
    "print(summed)"
   ]
  },
  {
   "cell_type": "code",
   "execution_count": null,
   "metadata": {},
   "outputs": [],
   "source": [
    "# List comprehension\n",
    "lst = [x * 2 for x in range(1000000)]\n",
    "\n",
    "# Generator expression\n",
    "gen = (x * 2 for x in range(1000000))\n",
    "print(type(lst), type(gen))"
   ]
  },
  {
   "cell_type": "code",
   "execution_count": null,
   "metadata": {},
   "outputs": [],
   "source": [
    "import time\n",
    "\n",
    "def timer(func):\n",
    "    def wrapper(*args, **kwargs):\n",
    "        start = time.time()\n",
    "        result = func(*args, **kwargs)\n",
    "        end = time.time()\n",
    "        print(f\"Execution time: {end - start} seconds\")\n",
    "        return result\n",
    "    return wrapper\n",
    "\n",
    "@timer\n",
    "def example_function():\n",
    "    time.sleep(2)\n",
    "    print(\"Function executed\")\n",
    "\n",
    "\n",
    "example_function()"
   ]
  },
  {
   "cell_type": "code",
   "execution_count": null,
   "metadata": {},
   "outputs": [],
   "source": [
    "count = 0\n",
    "while count < 1000:\n",
    "    print(\"We Love Atharav ❤️\")\n",
    "    count += 1"
   ]
  }
 ],
 "metadata": {
  "language_info": {
   "name": "python"
  }
 },
 "nbformat": 4,
 "nbformat_minor": 2
}
